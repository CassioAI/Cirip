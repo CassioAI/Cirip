{
 "cells": [
  {
   "cell_type": "markdown",
   "metadata": {
    "colab_type": "text",
    "id": "s9qBI03FrcgL"
   },
   "source": [
    "#  A short introduction"
   ]
  },
  {
   "cell_type": "markdown",
   "metadata": {
    "colab_type": "text",
    "id": "oCPtUo00rcgQ"
   },
   "source": [
    "We are working on a project to color grayscale pictures.\n",
    "The first few aspect of our project that we would like to introduce in this short introduction, are the decisions we took in our current approach to the problem.\n",
    "\n",
    "The Dataset:\n",
    "At first we were planning on using the ImageNet Database, but soon it became evident, that due to some technical difficulties on the site we weren't going to get access, so we decided on our current Database (Open Images V4 Dataset) which granted us the original images in a zip file. The images are not restricted to a single subject, the dataset incorporates images with various themes. We decided to start with 100000 images.\n",
    "(https://www.figure-eight.com/dataset/open-images-annotated-with-bounding-boxes/)\n",
    "\n",
    "The Images:\n",
    "Although the Images in the Database were mostly satisfactory for our goals, there were some modifications we had to make on them. Since the images were too big for us to handle and they did not have the same measurements we decided to crop them into a square shape and scale them down to resolution of 128X128. Also some of the pictures were not appropriate for our task such as grayscale pictures, so we decided, to sort them out.\n",
    "\n",
    "The LAB color scale:\n",
    "We decided to convert the images from RGB color space to LAB, which hopefully will make the teaching easier, as the L channel of LAB colorspace is the greyscale representation of the image, so the machine will only have to predict two channels instead of 3.\n",
    "\n",
    "The Small Parts:\n",
    "Even with a 128X128 scaling the whole dataset is too big to be loaded to the operating memory as a numpy array, so we decided to divide it into smaller parts, and teach the neural network on each smaller part individually."
   ]
  },
  {
   "cell_type": "markdown",
   "metadata": {
    "colab_type": "text",
    "id": "m79XKvNKrcgY"
   },
   "source": [
    "# The preparation and preprocessing of the dataset"
   ]
  },
  {
   "cell_type": "code",
   "execution_count": 15,
   "metadata": {
    "colab": {},
    "colab_type": "code",
    "id": "XesJ2Jrcrcgi"
   },
   "outputs": [],
   "source": [
    "# Importing the used packages\n",
    "# Numpy for arrays\n",
    "import numpy as np\n",
    "# requests for downloading the dataset\n",
    "import requests\n",
    "# PIL.Image for image processing\n",
    "from PIL import Image\n",
    "# keras.preprocessing.image for image processing\n",
    "import keras.preprocessing.image as k_image\n",
    "# os for file management\n",
    "import os\n",
    "# skimage.color for transforming the color model of images\n",
    "import skimage.color as skcolor\n",
    "# zipfile for extracting downloaded dataset \n",
    "import zipfile\n",
    "# random for random number generation in grayscale check\n",
    "import random\n",
    "\n",
    "import math\n",
    "\n",
    "import datetime\n",
    "#from google.colab import drive\n",
    "# Importing the used packages\n",
    "## Numpy for arrays\n",
    "import numpy as np\n",
    "## Pyplot from Matplotlib for vizualising the test results in plots\n",
    "import matplotlib.pyplot as plt\n",
    "%matplotlib inline\n",
    "## Math for Sqrt\n",
    "import math\n",
    "## Drive from Google.Colab because I was storing my database in google drive\n",
    "#from google.colab import drive\n",
    "## Genfromtxt to convert our csv file to array\n",
    "from numpy import genfromtxt\n",
    "## Keras.* for building my fully connected dense neural network \n",
    "from keras.models import Sequential\n",
    "from keras.layers.core import Dense, Activation,Flatten\n",
    "from keras.callbacks import Callback\n",
    "from keras.optimizers import SGD\n",
    "## Mean_squared_error from sklearn.metrics for calculating mean squared error\n",
    "from sklearn.metrics import mean_squared_error\n",
    "## keras.callbacks.* for Earlystopping (modelcheckpoint is needed to load back the weights)\n",
    "from keras.callbacks import EarlyStopping\n",
    "from keras.callbacks import ModelCheckpoint\n",
    "from keras.layers.convolutional import Conv2D, MaxPooling2D\n",
    "from keras.layers.normalization import BatchNormalization\n",
    "from keras.layers.advanced_activations import LeakyReLU"
   ]
  },
  {
   "cell_type": "code",
   "execution_count": 16,
   "metadata": {
    "colab": {
     "base_uri": "https://localhost:8080/",
     "height": 128
    },
    "colab_type": "code",
    "id": "YM-AHGITlwau",
    "outputId": "020f7d40-26fe-4aef-d647-c6803dd911e3"
   },
   "outputs": [],
   "source": [
    "#from google.colab import drive\n",
    "#drive.mount('/content/gdrive', force_remount=True);\n"
   ]
  },
  {
   "cell_type": "code",
   "execution_count": 17,
   "metadata": {
    "colab": {},
    "colab_type": "code",
    "id": "5CoQZxGOl9S9"
   },
   "outputs": [],
   "source": [
    "#Function for converting RGB images from path to LAB images.\n",
    "# path:          String, filepath of the images\n",
    "# return value:  Float array 128x128x3, The array of the images in LAB colorization\n",
    "def path2labimage(path):\n",
    "  #Opening the image from path and converting it to float array\n",
    "  raw_image_array = np.array(Image.open(path)).astype('float32')\n",
    "  #Converting RGB image to LAB\n",
    "  image_array = skcolor.rgb2lab(raw_image_array/255)\n",
    "  #Returning the float array with the LAB image values\n",
    "  return image_array"
   ]
  },
  {
   "cell_type": "code",
   "execution_count": 18,
   "metadata": {
    "colab": {},
    "colab_type": "code",
    "id": "bRwOLPyJhDWZ"
   },
   "outputs": [],
   "source": [
    "#Function for normalizing the images and saving it to csv files.\n",
    "# initial_path:          String, filepath of the images\n",
    "# target_path:           String, intended folder path of csv files\n",
    "# array_average:         Int, the average value of the train dataset\n",
    "# array_std:             Int, the standard deviation value of the train dataset\n",
    "def dataset_normalized_csv(initial_path,target_path,array_average,array_std):\n",
    "    # Creating directory for the transformed dataset, if it does not exist.\n",
    "    if not os.path.exists(target_path):\n",
    "        os.makedirs(target_path)\n",
    "        \n",
    "    i=0\n",
    "    t1=datetime.datetime.now()\n",
    "    # Iterating over the raw images.\n",
    "    for filename in os.listdir(initial_path):\n",
    "        t2 = datetime.datetime.now()\n",
    "        if(t2.minute != t1.minute):\n",
    "            print(str(i)+'/'+str(len(os.listdir(initial_path))))\n",
    "            t1=t2\n",
    "        \n",
    "        i+=1\n",
    "        #Converting path to LAB image\n",
    "        image_array = path2labimage(initial_path + filename)\n",
    "        #Normalizing the grayimage\n",
    "        image_array[:,:,0] = (image_array[:,:,0]-array_average)/array_std\n",
    "        #Min max scaling the color dimensions\n",
    "        image_array[:,:,1::] = image_array[:,:,1::]+128\n",
    "        image_array[:,:,1::] = image_array[:,:,1::]/256\n",
    "        #Saving to a csv files\n",
    "        np.savetxt((target_path + filename[:-3] + 'csv'), image_array.reshape((-1,3)), delimiter=\",\")\n"
   ]
  },
  {
   "cell_type": "code",
   "execution_count": 19,
   "metadata": {
    "colab": {},
    "colab_type": "code",
    "id": "JEww1VNChD8I"
   },
   "outputs": [],
   "source": [
    "def dataset_std(initial_path, image_size, valid_split, test_split):\n",
    "    NA = image_size*image_size;\n",
    "    NB = 0;\n",
    "    SA = 0;\n",
    "    SB = 'a';\n",
    "    a_ave = 0;\n",
    "    b_ave = 0;\n",
    "    i = 0;\n",
    "    t1=datetime.datetime.now()\n",
    "    for filename in os.listdir(initial_path):\n",
    "\n",
    "        t2 = datetime.datetime.now()\n",
    "        if(t2.minute != t1.minute):\n",
    "            print(str(i)+'/'+str(len(os.listdir(initial_path))))\n",
    "            t1=t2\n",
    "\n",
    "        image_array = path2labimage(initial_path + filename)\n",
    "        SA = np.std(image_array[:,:,0])\n",
    "        a_ave = np.average(image_array[:,:,0])\n",
    "        if(SB=='a'):\n",
    "            SB = SA\n",
    "            NB += NA\n",
    "            b_ave = a_ave;\n",
    "        else:\n",
    "            SB =math.sqrt(((NA-1)*(SA**2)+(NB-1)*(SB**2)+NA*NB/(NA+NB)*math.pow(a_ave-b_ave,2))/(NA+NB-1))\n",
    "            b_ave = (b_ave*NB+a_ave*NA)/(NB+NA)\n",
    "            NB += NA\n",
    "\n",
    "     #   if( i >= int(len(os.listdir(initial_path))*(1-valid_split-test_split))):\n",
    "     #     return SB,b_ave\n",
    "        i += 1\n",
    "    return  SB,b_ave   "
   ]
  },
  {
   "cell_type": "code",
   "execution_count": 20,
   "metadata": {
    "colab": {},
    "colab_type": "code",
    "id": "D2pMnKBhrcgv"
   },
   "outputs": [],
   "source": [
    "# Function for downloading the dataset.\n",
    "# url:           String, url of the zipped dataset\n",
    "# target_path:   String, intended filepath of the downloaded dataset\n",
    "def download_dataset(url, target_path):\n",
    "    # Downloading the file in chunks to avoid memory overrun.\n",
    "    r = requests.get(url, stream = True)\n",
    "    with open(target_path, 'wb') as f:\n",
    "        for chunk in r.iter_content(chunk_size=1024):\n",
    "            # Filtering out keep-alive new chunks.\n",
    "            if chunk: \n",
    "                f.write(chunk)"
   ]
  },
  {
   "cell_type": "code",
   "execution_count": 21,
   "metadata": {
    "colab": {},
    "colab_type": "code",
    "id": "cX7THU6Crcg9"
   },
   "outputs": [],
   "source": [
    "#Function for extracting zipped dataset.\n",
    "# dataset_zipped_path:   String, filepath of the zipped dataset\n",
    "# raw_dataset_path:      String, intended folder path of raw dataset\n",
    "# return value:          String, final folder path of raw dataset\n",
    "def extract_dataset(dataset_zipped_path, raw_dataset_path):\n",
    "    # Creating directory for the raw dataset, if it does not exist.\n",
    "    if not os.path.exists(raw_dataset_path):\n",
    "        os.makedirs(raw_dataset_path)\n",
    "    \n",
    "    # Extracting dataset to the intended folder path.\n",
    "    zip_ref = zipfile.ZipFile(dataset_zipped_path, 'r')\n",
    "    zip_ref.extractall(raw_dataset_path)\n",
    "    zip_ref.close()\n",
    "    \n",
    "    # Determining and returning final path of the raw dataset.\n",
    "    dirlist = os.listdir(raw_dataset_path)    \n",
    "    return raw_dataset_path + dirlist[0] + '/'"
   ]
  },
  {
   "cell_type": "code",
   "execution_count": 22,
   "metadata": {
    "colab": {},
    "colab_type": "code",
    "id": "YiKkFog5rchJ"
   },
   "outputs": [],
   "source": [
    "# Function for grayscale check of an image. Returns True if grayscale, False if not.\n",
    "# im:            PIL.Image object, input image\n",
    "# return value:  boolean, True if grayscale, False if not grayscale\n",
    "def is_gray_scale(im):\n",
    "    w,h = im.size\n",
    "    # Generating 10 random pixel coordinate.\n",
    "    rand_pixel_array = np.zeros((10,2))\n",
    "    for i in range(10):\n",
    "        rand_pixel_array[i,:] = [random.randint(0,w-1), random.randint(0,h-1)]\n",
    "    # If all of the 10 pixels have the same values on each channels, the image is regarded grayscale.\n",
    "    for i in range(10):\n",
    "        r,g,b = im.getpixel((rand_pixel_array[i,0], rand_pixel_array[i,1]))\n",
    "        if r != g != b: return False\n",
    "    return True"
   ]
  },
  {
   "cell_type": "code",
   "execution_count": 23,
   "metadata": {
    "colab": {},
    "colab_type": "code",
    "id": "tnLN6BlwrchQ"
   },
   "outputs": [],
   "source": [
    "# Function for dimension check of an image. Returns True if if image has the proper dimensions (3D, 3 channels), False if not.\n",
    "# im:            PIL.Image object, input image\n",
    "# return value:  boolean, True if image has the proper dimensions (3D, 3 channels), False if not\n",
    "def has_proper_dim(im):\n",
    "    # Get the image data to numpy array.\n",
    "    im_array = np.array(im)\n",
    "    shape = im_array.shape\n",
    "    # The image shall have 3 dimensions, and 3 channels.\n",
    "    if((len(shape) != 3) or (shape[2] != 3)):\n",
    "        return False\n",
    "    else:\n",
    "        return True    "
   ]
  },
  {
   "cell_type": "code",
   "execution_count": 24,
   "metadata": {
    "colab": {},
    "colab_type": "code",
    "id": "a0HC9YGKrche"
   },
   "outputs": [],
   "source": [
    "# Function for making the images to 1:1 ratio, and resizing them to the target size.\n",
    "# im:           PIL.Image object, input image\n",
    "# target_size:  tuple with 2 integer element, (width, height)\n",
    "# return value: PIL.Image object, transformed image\n",
    "def crop_resize_Image(im, target_size):\n",
    "    # Taking out the image data (width,height).\n",
    "    width,height = im.size\n",
    "    # Deciding if the image is landscape or portrait.\n",
    "    if(width > height):\n",
    "        # Landscape\n",
    "        top     = 0\n",
    "        left    = int((width - height)/2)\n",
    "        bottom  = height\n",
    "        right    = width - int((width - height)/2)\n",
    "    else:\n",
    "        # Portrait.\n",
    "        top     = int((height - width)/2)\n",
    "        left    = 0\n",
    "        bottom  = height-int((height - width)/2)\n",
    "        right    = width\n",
    "    # Cropping the image to conform 1:1 ratio, the resizing to target size.\n",
    "    return im.crop((left,top,right,bottom)).resize(target_size)"
   ]
  },
  {
   "cell_type": "code",
   "execution_count": 25,
   "metadata": {
    "colab": {},
    "colab_type": "code",
    "id": "Gi5IYfxjrchp"
   },
   "outputs": [],
   "source": [
    "# Function for standardizing the input array.\n",
    "# array:          numpy array, input array\n",
    "# return value:   numpy array, standardized input array\n",
    "def standardize(array):\n",
    "    # Calculating average on all elements of the array.\n",
    "    ave = np.average(array)\n",
    "    # Calculating standard deviation on all the elements of the array.\n",
    "    std = np.std(array)\n",
    "    # Standardizing the input array.\n",
    "    new_array = (array-ave)/std\n",
    "    # Returning standardized array.\n",
    "    return new_array"
   ]
  },
  {
   "cell_type": "code",
   "execution_count": 26,
   "metadata": {
    "colab": {},
    "colab_type": "code",
    "id": "H5eRidPZrch4"
   },
   "outputs": [],
   "source": [
    "# Function for transforming the images of the dataset to 1:1 ratio, and target size.\n",
    "# initial_path:  String, folder path of the raw dataset\n",
    "# target_path:   String, intended folder path of the transformed dataset\n",
    "# image_size:    tuple with 2 integer element, (width, height)\n",
    "def dataset_transform(initial_path, target_path, image_size):\n",
    "    # Creating directory for the transformed dataset, if it does not exist.\n",
    "    if not os.path.exists(target_path):\n",
    "        os.makedirs(target_path)\n",
    "    # Iterating over the raw images.\n",
    "    for filename in os.listdir(initial_path):\n",
    "        im = Image.open(initial_path + filename)\n",
    "        # Filtering out the grayscale images, and images with improper dimensions.\n",
    "        if((is_gray_scale(im) == False) and (has_proper_dim(im) == True)):\n",
    "            # Making the images to 1:1 ratio, and resizing them to the target size.\n",
    "            im = crop_resize_Image(im,(128,128))\n",
    "            # Saving the images to the target directory.\n",
    "            im.save(target_path + filename)"
   ]
  },
  {
   "cell_type": "code",
   "execution_count": 27,
   "metadata": {
    "colab": {},
    "colab_type": "code",
    "id": "3rKOEjBXrciD"
   },
   "outputs": [],
   "source": [
    "# Function to preprocess the given number of images from the given offset to form training and validation data.\n",
    "# dataset_path:  String, folder path of the dataset\n",
    "# train_spl:     float, proportion of training data to all data\n",
    "# valid_spl:     float, proportion of validation data to all data\n",
    "# num_imgs:      int, number of images to preprocess\n",
    "# offset:        int, image index offset in dataset folder\n",
    "# return value:  training data input, training data output, validation data input, validation data output\n",
    "def preprocess_train_valid_data(dataset_path, train_spl, valid_spl, num_imgs, offset):\n",
    "    \n",
    "    # Determine validation split when taking to account only training and validation data.\n",
    "    valid_split = valid_spl / (train_spl + valid_spl)\n",
    "    \n",
    "    # Making a list of filenames of the dataset directory.\n",
    "    filename_list = os.listdir(dataset_path)\n",
    "    # Creating an empty list for the loaded images.\n",
    "    data = []\n",
    "    # Iterating over the given number of images from the given offset in the dataset.\n",
    "    for i in range(offset, (offset + num_imgs)):\n",
    "        # Loading the actual image, then converting that to a numpy array.\n",
    "        csv = np.genfromtxt(dataset_path + filename_list[i], delimiter=',')\n",
    "        image = csv.reshape(128,128,3)\n",
    "        # Appending image to the list.\n",
    "        data.append(image)  \n",
    "\n",
    "    # Creating a numpy array from the list, with float32 datatype.\n",
    "    data = np.asarray(data, dtype='float32')\n",
    "    # Selecting the first channel of the images as input, that contains the grayscale representation of the image in lAB color space.\n",
    "    X = data[:,:,:,0]\n",
    "    # Selecting the second and third channels of the images as output, they contain green–red and blue–yellow color components respectively.\n",
    "    Y = data[:,:,:,1:]\n",
    "    \n",
    "    # Selecting training and validation data separately.    \n",
    "    X_train = X[0:int(num_imgs*(1-valid_split)),:,:]\n",
    "    Y_train = Y[0:int(num_imgs*(1-valid_split)),:,:,:]\n",
    "    X_valid = X[int(num_imgs*(1-valid_split)):,:,:]\n",
    "    Y_valid = Y[int(num_imgs*(1-valid_split)):,:,:,:]\n",
    "    \n",
    "    return X_train,Y_train,X_valid,Y_valid"
   ]
  },
  {
   "cell_type": "code",
   "execution_count": 28,
   "metadata": {
    "colab": {},
    "colab_type": "code",
    "id": "e_MX25K1rciR"
   },
   "outputs": [],
   "source": [
    "# Function to preprocess the given number of images from the given offset to form test data.\n",
    "# dataset_path:  String, folder path of the dataset\n",
    "# num_imgs:      int, number of images to preprocess\n",
    "# offset:        int, image index offset in dataset folder\n",
    "# return value:  test data input, test data output\n",
    "def preprocess_test_data(dataset_path, num_imgs, offset):\n",
    "    \n",
    "    # Making a list of filenames of the dataset directory.\n",
    "    filename_list = os.listdir(dataset_path)\n",
    "    # Creating an empty list for the loaded images.\n",
    "    data = []\n",
    "    # Iterating over the given number of images from the given offset in the dataset.\n",
    "    for i in range(offset, min(offset + num_imgs,len(filename_list))):\n",
    "        # Loading the actual image, then converting that to a numpy array.\n",
    "        csv = np.genfromtxt(dataset_path + filename_list[i], delimiter=',')\n",
    "        image = csv.reshape(128,128,3)\n",
    "        # Appending image to the list.\n",
    "        data.append(image) \n",
    "\n",
    "    # Creating a numpy array from the list, with float32 datatype.\n",
    "    data = np.asarray(data, dtype='float32')\n",
    "    # Selecting the first channel of the images as input, that contains the grayscale representation of the image in lAB color space.\n",
    "    X_test = data[:,:,:,0]\n",
    "    # Selecting the second and third channels of the images as output, they contain green–red and blue–yellow color components respectively.\n",
    "    Y_test = data[:,:,:,1:]\n",
    "    \n",
    "    return X_test, Y_test"
   ]
  },
  {
   "cell_type": "code",
   "execution_count": 29,
   "metadata": {
    "colab": {},
    "colab_type": "code",
    "id": "V3ir1wqircig"
   },
   "outputs": [],
   "source": [
    "# Function for converting RGB image array to grayscale image array.\n",
    "def img_grayscale(imageArray):\n",
    "    \n",
    "    imgArr= np.empty([1])\n",
    "    for image in imageArray:\n",
    "        pil_imgray = image.convert('LA')\n",
    "        img = np.array(list(pil_imgray.getdata(band=0)), int)\n",
    "        img.shape = (pil_imgray.size[1], pil_imgray.size[0])\n",
    "        imgArr=np.append(imgArr,img)\n",
    "    imgArr = np.delete(imgArr,0)\n",
    "    imgArr.shape = (len(imageArray),pil_imgray.size[1], pil_imgray.size[0])\n",
    "    return imgArr;"
   ]
  },
  {
   "cell_type": "code",
   "execution_count": 30,
   "metadata": {
    "colab": {},
    "colab_type": "code",
    "id": "sbBnLINnrciu"
   },
   "outputs": [],
   "source": [
    "# Function for making visualization for the images.\n",
    "# transformed_dataset_path   String, folder path of transformed dataset\n",
    "# width                      int, number of images on one edge\n",
    "# size                       int, size of 1:1 ratio image\n",
    "def image_mosaic(transformed_dataset_path, width, size):\n",
    "    \n",
    "    # Making a list of filenames of the dataset directory.\n",
    "    filename_list = os.listdir(transformed_dataset_path)\n",
    "    # Creating an empty list for the loaded images.\n",
    "    imagearray = []\n",
    "    # Loading the first width*width number of images, and appending them to the list.\n",
    "    for i in range(width*width):\n",
    "        im = Image.open(transformed_dataset_path + filename_list[i])\n",
    "        imagearray.append(im)\n",
    "        \n",
    "    # Initializing canvas.\n",
    "    canvas = np.ones((size*width,size*width*2,3));\n",
    "    # Resizing images.\n",
    "    for i in range(len(imagearray)):\n",
    "        imagearray[i]=imagearray[i].resize((size,size),Image.ANTIALIAS)\n",
    "    # Making GrayImages.\n",
    "    grayimage=img_grayscale(imagearray)\n",
    "    # Writing the RGB images to the canvas right side.\n",
    "    for i in range(width):\n",
    "        for j in range(width):\n",
    "            canvas[i*size:(i+1)*size,j*size:(j+1)*size,0::]=np.array(imagearray[i+width*j])\n",
    "    # Writing grayscale images to the canvas left side.\n",
    "    for i in range(width):\n",
    "        for j in range(width,2*width):\n",
    "            canvas[i*size:(i+1)*size,j*size:(j+1)*size,0]=np.array(grayimage[i+width*(j-width)])\n",
    "            canvas[i*size:(i+1)*size,j*size:(j+1)*size,1]=np.array(grayimage[i+width*(j-width)])\n",
    "            canvas[i*size:(i+1)*size,j*size:(j+1)*size,2]=np.array(grayimage[i+width*(j-width)])\n",
    "            \n",
    "    # Displaying the mosaic.\n",
    "    canvas = canvas.astype(np.uint8);\n",
    "    mosaic = Image.fromarray(canvas)\n",
    "    mosaic.show()"
   ]
  },
  {
   "cell_type": "code",
   "execution_count": 31,
   "metadata": {
    "colab": {},
    "colab_type": "code",
    "id": "JkIhjs2kpKvG"
   },
   "outputs": [],
   "source": [
    "# Specifying train, validation and test split values.\n",
    "train_split = 0.8\n",
    "valid_split = 0.1\n",
    "test_split = 0.1\n",
    "# Specifying intended filepath for the dataset to be downloaded.\n",
    "dataset_zipped_path = os.getcwd() + '/zipped_dataset.zip'\n",
    "# Specifying intended folder path of raw dataset.\n",
    "raw_dataset_path = os.getcwd() + '/raw_dataset/'\n",
    "# Specifying intended folder path of transformed dataset.\n",
    "transformed_dataset_path = 'C:/Users/USER/Documents/datasets/transformed_dataset/'"
   ]
  },
  {
   "cell_type": "code",
   "execution_count": 12,
   "metadata": {
    "colab": {
     "base_uri": "https://localhost:8080/",
     "height": 1550
    },
    "colab_type": "code",
    "id": "axQbTLTLrci4",
    "outputId": "9ce0b715-2c94-4b27-fd0c-13fc0beeeefa"
   },
   "outputs": [
    {
     "name": "stdout",
     "output_type": "stream",
     "text": [
      "Start zip file download. 2018-11-04 20:36:44.725080\n"
     ]
    },
    {
     "ename": "KeyboardInterrupt",
     "evalue": "ignored",
     "output_type": "error",
     "traceback": [
      "\u001b[0;31m---------------------------------------------------------------------------\u001b[0m",
      "\u001b[0;31mKeyboardInterrupt\u001b[0m                         Traceback (most recent call last)",
      "\u001b[0;32m<ipython-input-12-bf9b71fd7ce3>\u001b[0m in \u001b[0;36m<module>\u001b[0;34m()\u001b[0m\n\u001b[1;32m     15\u001b[0m \u001b[0mprint\u001b[0m\u001b[0;34m(\u001b[0m\u001b[0;34m'Start zip file download. '\u001b[0m\u001b[0;34m+\u001b[0m\u001b[0mstr\u001b[0m\u001b[0;34m(\u001b[0m\u001b[0mdatetime\u001b[0m\u001b[0;34m.\u001b[0m\u001b[0mdatetime\u001b[0m\u001b[0;34m.\u001b[0m\u001b[0mnow\u001b[0m\u001b[0;34m(\u001b[0m\u001b[0;34m)\u001b[0m\u001b[0;34m)\u001b[0m\u001b[0;34m)\u001b[0m\u001b[0;34m\u001b[0m\u001b[0m\n\u001b[1;32m     16\u001b[0m \u001b[0;31m# Downloading zipped dataset.\u001b[0m\u001b[0;34m\u001b[0m\u001b[0;34m\u001b[0m\u001b[0m\n\u001b[0;32m---> 17\u001b[0;31m \u001b[0mdownload_dataset\u001b[0m\u001b[0;34m(\u001b[0m\u001b[0;34m'https://datasets.figure-eight.com/figure_eight_datasets/open-images/test_challenge.zip'\u001b[0m\u001b[0;34m,\u001b[0m \u001b[0mdataset_zipped_path\u001b[0m\u001b[0;34m)\u001b[0m\u001b[0;34m\u001b[0m\u001b[0m\n\u001b[0m\u001b[1;32m     18\u001b[0m \u001b[0mprint\u001b[0m\u001b[0;34m(\u001b[0m\u001b[0;34m'Zip file downloaded. '\u001b[0m\u001b[0;34m+\u001b[0m\u001b[0mstr\u001b[0m\u001b[0;34m(\u001b[0m\u001b[0mdatetime\u001b[0m\u001b[0;34m.\u001b[0m\u001b[0mdatetime\u001b[0m\u001b[0;34m.\u001b[0m\u001b[0mnow\u001b[0m\u001b[0;34m(\u001b[0m\u001b[0;34m)\u001b[0m\u001b[0;34m)\u001b[0m\u001b[0;34m)\u001b[0m\u001b[0;34m\u001b[0m\u001b[0m\n\u001b[1;32m     19\u001b[0m \u001b[0;34m\u001b[0m\u001b[0m\n",
      "\u001b[0;32m<ipython-input-11-a89fa2a2327e>\u001b[0m in \u001b[0;36mdownload_dataset\u001b[0;34m(url, target_path)\u001b[0m\n\u001b[1;32m      3\u001b[0m     \u001b[0mr\u001b[0m \u001b[0;34m=\u001b[0m \u001b[0mrequests\u001b[0m\u001b[0;34m.\u001b[0m\u001b[0mget\u001b[0m\u001b[0;34m(\u001b[0m\u001b[0murl\u001b[0m\u001b[0;34m,\u001b[0m \u001b[0mstream\u001b[0m \u001b[0;34m=\u001b[0m \u001b[0;32mTrue\u001b[0m\u001b[0;34m)\u001b[0m\u001b[0;34m\u001b[0m\u001b[0m\n\u001b[1;32m      4\u001b[0m     \u001b[0;32mwith\u001b[0m \u001b[0mopen\u001b[0m\u001b[0;34m(\u001b[0m\u001b[0mtarget_path\u001b[0m\u001b[0;34m,\u001b[0m \u001b[0;34m'wb'\u001b[0m\u001b[0;34m)\u001b[0m \u001b[0;32mas\u001b[0m \u001b[0mf\u001b[0m\u001b[0;34m:\u001b[0m\u001b[0;34m\u001b[0m\u001b[0m\n\u001b[0;32m----> 5\u001b[0;31m         \u001b[0;32mfor\u001b[0m \u001b[0mchunk\u001b[0m \u001b[0;32min\u001b[0m \u001b[0mr\u001b[0m\u001b[0;34m.\u001b[0m\u001b[0miter_content\u001b[0m\u001b[0;34m(\u001b[0m\u001b[0mchunk_size\u001b[0m\u001b[0;34m=\u001b[0m\u001b[0;36m1024\u001b[0m\u001b[0;34m)\u001b[0m\u001b[0;34m:\u001b[0m\u001b[0;34m\u001b[0m\u001b[0m\n\u001b[0m\u001b[1;32m      6\u001b[0m             \u001b[0;31m# Filtering out keep-alive new chunks.\u001b[0m\u001b[0;34m\u001b[0m\u001b[0;34m\u001b[0m\u001b[0m\n\u001b[1;32m      7\u001b[0m             \u001b[0;32mif\u001b[0m \u001b[0mchunk\u001b[0m\u001b[0;34m:\u001b[0m\u001b[0;34m\u001b[0m\u001b[0m\n",
      "\u001b[0;32m/usr/local/lib/python3.6/dist-packages/requests/models.py\u001b[0m in \u001b[0;36mgenerate\u001b[0;34m()\u001b[0m\n\u001b[1;32m    743\u001b[0m             \u001b[0;32mif\u001b[0m \u001b[0mhasattr\u001b[0m\u001b[0;34m(\u001b[0m\u001b[0mself\u001b[0m\u001b[0;34m.\u001b[0m\u001b[0mraw\u001b[0m\u001b[0;34m,\u001b[0m \u001b[0;34m'stream'\u001b[0m\u001b[0;34m)\u001b[0m\u001b[0;34m:\u001b[0m\u001b[0;34m\u001b[0m\u001b[0m\n\u001b[1;32m    744\u001b[0m                 \u001b[0;32mtry\u001b[0m\u001b[0;34m:\u001b[0m\u001b[0;34m\u001b[0m\u001b[0m\n\u001b[0;32m--> 745\u001b[0;31m                     \u001b[0;32mfor\u001b[0m \u001b[0mchunk\u001b[0m \u001b[0;32min\u001b[0m \u001b[0mself\u001b[0m\u001b[0;34m.\u001b[0m\u001b[0mraw\u001b[0m\u001b[0;34m.\u001b[0m\u001b[0mstream\u001b[0m\u001b[0;34m(\u001b[0m\u001b[0mchunk_size\u001b[0m\u001b[0;34m,\u001b[0m \u001b[0mdecode_content\u001b[0m\u001b[0;34m=\u001b[0m\u001b[0;32mTrue\u001b[0m\u001b[0;34m)\u001b[0m\u001b[0;34m:\u001b[0m\u001b[0;34m\u001b[0m\u001b[0m\n\u001b[0m\u001b[1;32m    746\u001b[0m                         \u001b[0;32myield\u001b[0m \u001b[0mchunk\u001b[0m\u001b[0;34m\u001b[0m\u001b[0m\n\u001b[1;32m    747\u001b[0m                 \u001b[0;32mexcept\u001b[0m \u001b[0mProtocolError\u001b[0m \u001b[0;32mas\u001b[0m \u001b[0me\u001b[0m\u001b[0;34m:\u001b[0m\u001b[0;34m\u001b[0m\u001b[0m\n",
      "\u001b[0;32m/usr/local/lib/python3.6/dist-packages/urllib3/response.py\u001b[0m in \u001b[0;36mstream\u001b[0;34m(self, amt, decode_content)\u001b[0m\n\u001b[1;32m    434\u001b[0m         \u001b[0;32melse\u001b[0m\u001b[0;34m:\u001b[0m\u001b[0;34m\u001b[0m\u001b[0m\n\u001b[1;32m    435\u001b[0m             \u001b[0;32mwhile\u001b[0m \u001b[0;32mnot\u001b[0m \u001b[0mis_fp_closed\u001b[0m\u001b[0;34m(\u001b[0m\u001b[0mself\u001b[0m\u001b[0;34m.\u001b[0m\u001b[0m_fp\u001b[0m\u001b[0;34m)\u001b[0m\u001b[0;34m:\u001b[0m\u001b[0;34m\u001b[0m\u001b[0m\n\u001b[0;32m--> 436\u001b[0;31m                 \u001b[0mdata\u001b[0m \u001b[0;34m=\u001b[0m \u001b[0mself\u001b[0m\u001b[0;34m.\u001b[0m\u001b[0mread\u001b[0m\u001b[0;34m(\u001b[0m\u001b[0mamt\u001b[0m\u001b[0;34m=\u001b[0m\u001b[0mamt\u001b[0m\u001b[0;34m,\u001b[0m \u001b[0mdecode_content\u001b[0m\u001b[0;34m=\u001b[0m\u001b[0mdecode_content\u001b[0m\u001b[0;34m)\u001b[0m\u001b[0;34m\u001b[0m\u001b[0m\n\u001b[0m\u001b[1;32m    437\u001b[0m \u001b[0;34m\u001b[0m\u001b[0m\n\u001b[1;32m    438\u001b[0m                 \u001b[0;32mif\u001b[0m \u001b[0mdata\u001b[0m\u001b[0;34m:\u001b[0m\u001b[0;34m\u001b[0m\u001b[0m\n",
      "\u001b[0;32m/usr/local/lib/python3.6/dist-packages/urllib3/response.py\u001b[0m in \u001b[0;36mread\u001b[0;34m(self, amt, decode_content, cache_content)\u001b[0m\n\u001b[1;32m    382\u001b[0m             \u001b[0;32melse\u001b[0m\u001b[0;34m:\u001b[0m\u001b[0;34m\u001b[0m\u001b[0m\n\u001b[1;32m    383\u001b[0m                 \u001b[0mcache_content\u001b[0m \u001b[0;34m=\u001b[0m \u001b[0;32mFalse\u001b[0m\u001b[0;34m\u001b[0m\u001b[0m\n\u001b[0;32m--> 384\u001b[0;31m                 \u001b[0mdata\u001b[0m \u001b[0;34m=\u001b[0m \u001b[0mself\u001b[0m\u001b[0;34m.\u001b[0m\u001b[0m_fp\u001b[0m\u001b[0;34m.\u001b[0m\u001b[0mread\u001b[0m\u001b[0;34m(\u001b[0m\u001b[0mamt\u001b[0m\u001b[0;34m)\u001b[0m\u001b[0;34m\u001b[0m\u001b[0m\n\u001b[0m\u001b[1;32m    385\u001b[0m                 \u001b[0;32mif\u001b[0m \u001b[0mamt\u001b[0m \u001b[0;34m!=\u001b[0m \u001b[0;36m0\u001b[0m \u001b[0;32mand\u001b[0m \u001b[0;32mnot\u001b[0m \u001b[0mdata\u001b[0m\u001b[0;34m:\u001b[0m  \u001b[0;31m# Platform-specific: Buggy versions of Python.\u001b[0m\u001b[0;34m\u001b[0m\u001b[0m\n\u001b[1;32m    386\u001b[0m                     \u001b[0;31m# Close the connection when no data is returned\u001b[0m\u001b[0;34m\u001b[0m\u001b[0;34m\u001b[0m\u001b[0m\n",
      "\u001b[0;32m/usr/lib/python3.6/http/client.py\u001b[0m in \u001b[0;36mread\u001b[0;34m(self, amt)\u001b[0m\n\u001b[1;32m    447\u001b[0m             \u001b[0;31m# Amount is given, implement using readinto\u001b[0m\u001b[0;34m\u001b[0m\u001b[0;34m\u001b[0m\u001b[0m\n\u001b[1;32m    448\u001b[0m             \u001b[0mb\u001b[0m \u001b[0;34m=\u001b[0m \u001b[0mbytearray\u001b[0m\u001b[0;34m(\u001b[0m\u001b[0mamt\u001b[0m\u001b[0;34m)\u001b[0m\u001b[0;34m\u001b[0m\u001b[0m\n\u001b[0;32m--> 449\u001b[0;31m             \u001b[0mn\u001b[0m \u001b[0;34m=\u001b[0m \u001b[0mself\u001b[0m\u001b[0;34m.\u001b[0m\u001b[0mreadinto\u001b[0m\u001b[0;34m(\u001b[0m\u001b[0mb\u001b[0m\u001b[0;34m)\u001b[0m\u001b[0;34m\u001b[0m\u001b[0m\n\u001b[0m\u001b[1;32m    450\u001b[0m             \u001b[0;32mreturn\u001b[0m \u001b[0mmemoryview\u001b[0m\u001b[0;34m(\u001b[0m\u001b[0mb\u001b[0m\u001b[0;34m)\u001b[0m\u001b[0;34m[\u001b[0m\u001b[0;34m:\u001b[0m\u001b[0mn\u001b[0m\u001b[0;34m]\u001b[0m\u001b[0;34m.\u001b[0m\u001b[0mtobytes\u001b[0m\u001b[0;34m(\u001b[0m\u001b[0;34m)\u001b[0m\u001b[0;34m\u001b[0m\u001b[0m\n\u001b[1;32m    451\u001b[0m         \u001b[0;32melse\u001b[0m\u001b[0;34m:\u001b[0m\u001b[0;34m\u001b[0m\u001b[0m\n",
      "\u001b[0;32m/usr/lib/python3.6/http/client.py\u001b[0m in \u001b[0;36mreadinto\u001b[0;34m(self, b)\u001b[0m\n\u001b[1;32m    491\u001b[0m         \u001b[0;31m# connection, and the user is reading more bytes than will be provided\u001b[0m\u001b[0;34m\u001b[0m\u001b[0;34m\u001b[0m\u001b[0m\n\u001b[1;32m    492\u001b[0m         \u001b[0;31m# (for example, reading in 1k chunks)\u001b[0m\u001b[0;34m\u001b[0m\u001b[0;34m\u001b[0m\u001b[0m\n\u001b[0;32m--> 493\u001b[0;31m         \u001b[0mn\u001b[0m \u001b[0;34m=\u001b[0m \u001b[0mself\u001b[0m\u001b[0;34m.\u001b[0m\u001b[0mfp\u001b[0m\u001b[0;34m.\u001b[0m\u001b[0mreadinto\u001b[0m\u001b[0;34m(\u001b[0m\u001b[0mb\u001b[0m\u001b[0;34m)\u001b[0m\u001b[0;34m\u001b[0m\u001b[0m\n\u001b[0m\u001b[1;32m    494\u001b[0m         \u001b[0;32mif\u001b[0m \u001b[0;32mnot\u001b[0m \u001b[0mn\u001b[0m \u001b[0;32mand\u001b[0m \u001b[0mb\u001b[0m\u001b[0;34m:\u001b[0m\u001b[0;34m\u001b[0m\u001b[0m\n\u001b[1;32m    495\u001b[0m             \u001b[0;31m# Ideally, we would raise IncompleteRead if the content-length\u001b[0m\u001b[0;34m\u001b[0m\u001b[0;34m\u001b[0m\u001b[0m\n",
      "\u001b[0;32m/usr/lib/python3.6/socket.py\u001b[0m in \u001b[0;36mreadinto\u001b[0;34m(self, b)\u001b[0m\n\u001b[1;32m    584\u001b[0m         \u001b[0;32mwhile\u001b[0m \u001b[0;32mTrue\u001b[0m\u001b[0;34m:\u001b[0m\u001b[0;34m\u001b[0m\u001b[0m\n\u001b[1;32m    585\u001b[0m             \u001b[0;32mtry\u001b[0m\u001b[0;34m:\u001b[0m\u001b[0;34m\u001b[0m\u001b[0m\n\u001b[0;32m--> 586\u001b[0;31m                 \u001b[0;32mreturn\u001b[0m \u001b[0mself\u001b[0m\u001b[0;34m.\u001b[0m\u001b[0m_sock\u001b[0m\u001b[0;34m.\u001b[0m\u001b[0mrecv_into\u001b[0m\u001b[0;34m(\u001b[0m\u001b[0mb\u001b[0m\u001b[0;34m)\u001b[0m\u001b[0;34m\u001b[0m\u001b[0m\n\u001b[0m\u001b[1;32m    587\u001b[0m             \u001b[0;32mexcept\u001b[0m \u001b[0mtimeout\u001b[0m\u001b[0;34m:\u001b[0m\u001b[0;34m\u001b[0m\u001b[0m\n\u001b[1;32m    588\u001b[0m                 \u001b[0mself\u001b[0m\u001b[0;34m.\u001b[0m\u001b[0m_timeout_occurred\u001b[0m \u001b[0;34m=\u001b[0m \u001b[0;32mTrue\u001b[0m\u001b[0;34m\u001b[0m\u001b[0m\n",
      "\u001b[0;32m/usr/lib/python3.6/ssl.py\u001b[0m in \u001b[0;36mrecv_into\u001b[0;34m(self, buffer, nbytes, flags)\u001b[0m\n\u001b[1;32m   1007\u001b[0m                   \u001b[0;34m\"non-zero flags not allowed in calls to recv_into() on %s\"\u001b[0m \u001b[0;34m%\u001b[0m\u001b[0;34m\u001b[0m\u001b[0m\n\u001b[1;32m   1008\u001b[0m                   self.__class__)\n\u001b[0;32m-> 1009\u001b[0;31m             \u001b[0;32mreturn\u001b[0m \u001b[0mself\u001b[0m\u001b[0;34m.\u001b[0m\u001b[0mread\u001b[0m\u001b[0;34m(\u001b[0m\u001b[0mnbytes\u001b[0m\u001b[0;34m,\u001b[0m \u001b[0mbuffer\u001b[0m\u001b[0;34m)\u001b[0m\u001b[0;34m\u001b[0m\u001b[0m\n\u001b[0m\u001b[1;32m   1010\u001b[0m         \u001b[0;32melse\u001b[0m\u001b[0;34m:\u001b[0m\u001b[0;34m\u001b[0m\u001b[0m\n\u001b[1;32m   1011\u001b[0m             \u001b[0;32mreturn\u001b[0m \u001b[0msocket\u001b[0m\u001b[0;34m.\u001b[0m\u001b[0mrecv_into\u001b[0m\u001b[0;34m(\u001b[0m\u001b[0mself\u001b[0m\u001b[0;34m,\u001b[0m \u001b[0mbuffer\u001b[0m\u001b[0;34m,\u001b[0m \u001b[0mnbytes\u001b[0m\u001b[0;34m,\u001b[0m \u001b[0mflags\u001b[0m\u001b[0;34m)\u001b[0m\u001b[0;34m\u001b[0m\u001b[0m\n",
      "\u001b[0;32m/usr/lib/python3.6/ssl.py\u001b[0m in \u001b[0;36mread\u001b[0;34m(self, len, buffer)\u001b[0m\n\u001b[1;32m    869\u001b[0m             \u001b[0;32mraise\u001b[0m \u001b[0mValueError\u001b[0m\u001b[0;34m(\u001b[0m\u001b[0;34m\"Read on closed or unwrapped SSL socket.\"\u001b[0m\u001b[0;34m)\u001b[0m\u001b[0;34m\u001b[0m\u001b[0m\n\u001b[1;32m    870\u001b[0m         \u001b[0;32mtry\u001b[0m\u001b[0;34m:\u001b[0m\u001b[0;34m\u001b[0m\u001b[0m\n\u001b[0;32m--> 871\u001b[0;31m             \u001b[0;32mreturn\u001b[0m \u001b[0mself\u001b[0m\u001b[0;34m.\u001b[0m\u001b[0m_sslobj\u001b[0m\u001b[0;34m.\u001b[0m\u001b[0mread\u001b[0m\u001b[0;34m(\u001b[0m\u001b[0mlen\u001b[0m\u001b[0;34m,\u001b[0m \u001b[0mbuffer\u001b[0m\u001b[0;34m)\u001b[0m\u001b[0;34m\u001b[0m\u001b[0m\n\u001b[0m\u001b[1;32m    872\u001b[0m         \u001b[0;32mexcept\u001b[0m \u001b[0mSSLError\u001b[0m \u001b[0;32mas\u001b[0m \u001b[0mx\u001b[0m\u001b[0;34m:\u001b[0m\u001b[0;34m\u001b[0m\u001b[0m\n\u001b[1;32m    873\u001b[0m             \u001b[0;32mif\u001b[0m \u001b[0mx\u001b[0m\u001b[0;34m.\u001b[0m\u001b[0margs\u001b[0m\u001b[0;34m[\u001b[0m\u001b[0;36m0\u001b[0m\u001b[0;34m]\u001b[0m \u001b[0;34m==\u001b[0m \u001b[0mSSL_ERROR_EOF\u001b[0m \u001b[0;32mand\u001b[0m \u001b[0mself\u001b[0m\u001b[0;34m.\u001b[0m\u001b[0msuppress_ragged_eofs\u001b[0m\u001b[0;34m:\u001b[0m\u001b[0;34m\u001b[0m\u001b[0m\n",
      "\u001b[0;32m/usr/lib/python3.6/ssl.py\u001b[0m in \u001b[0;36mread\u001b[0;34m(self, len, buffer)\u001b[0m\n\u001b[1;32m    629\u001b[0m         \"\"\"\n\u001b[1;32m    630\u001b[0m         \u001b[0;32mif\u001b[0m \u001b[0mbuffer\u001b[0m \u001b[0;32mis\u001b[0m \u001b[0;32mnot\u001b[0m \u001b[0;32mNone\u001b[0m\u001b[0;34m:\u001b[0m\u001b[0;34m\u001b[0m\u001b[0m\n\u001b[0;32m--> 631\u001b[0;31m             \u001b[0mv\u001b[0m \u001b[0;34m=\u001b[0m \u001b[0mself\u001b[0m\u001b[0;34m.\u001b[0m\u001b[0m_sslobj\u001b[0m\u001b[0;34m.\u001b[0m\u001b[0mread\u001b[0m\u001b[0;34m(\u001b[0m\u001b[0mlen\u001b[0m\u001b[0;34m,\u001b[0m \u001b[0mbuffer\u001b[0m\u001b[0;34m)\u001b[0m\u001b[0;34m\u001b[0m\u001b[0m\n\u001b[0m\u001b[1;32m    632\u001b[0m         \u001b[0;32melse\u001b[0m\u001b[0;34m:\u001b[0m\u001b[0;34m\u001b[0m\u001b[0m\n\u001b[1;32m    633\u001b[0m             \u001b[0mv\u001b[0m \u001b[0;34m=\u001b[0m \u001b[0mself\u001b[0m\u001b[0;34m.\u001b[0m\u001b[0m_sslobj\u001b[0m\u001b[0;34m.\u001b[0m\u001b[0mread\u001b[0m\u001b[0;34m(\u001b[0m\u001b[0mlen\u001b[0m\u001b[0;34m)\u001b[0m\u001b[0;34m\u001b[0m\u001b[0m\n",
      "\u001b[0;31mKeyboardInterrupt\u001b[0m: "
     ]
    }
   ],
   "source": [
    "# Specifying input image size.\n",
    "image_size = (128,128)\n",
    "# Specifying maximal number of images that can be loaded into memory at one time.\n",
    "max_loaded_imgs_num = 1000\n",
    "\n",
    "print('Start zip file download. '+str(datetime.datetime.now()))\n",
    "# Downloading zipped dataset.\n",
    "download_dataset('https://datasets.figure-eight.com/figure_eight_datasets/open-images/test_challenge.zip', dataset_zipped_path)\n",
    "print('Zip file downloaded. '+str(datetime.datetime.now()))\n",
    "\n",
    "print('Start images extraction. '+str(datetime.datetime.now()))\n",
    "# Extracting zipped dataset to the intended folder path.\n",
    "raw_dataset_path = extract_dataset(dataset_zipped_path, raw_dataset_path)\n",
    "print('Images are extracted. '+str(datetime.datetime.now()))\n",
    "\n",
    "print('Start dataset transforming. '+str(datetime.datetime.now()))\n",
    "# Transforming raw dataset to the proper format. \n",
    "dataset_transform(raw_dataset_path, transformed_dataset_path, (128,128))\n",
    "print('Dataset is transformed. '+str(datetime.datetime.now()))\n",
    "\n",
    "# Visualization dataset by displaying a mosaic.\n",
    "image_mosaic(transformed_dataset_path, 10, 64)\n",
    "\n",
    "# Determining the length of the dataset.\n",
    "len_dataset = len(os.listdir(transformed_dataset_path))\n",
    "\n",
    "# Since the whole dataset cannot be loaded to the memory at the same time, the training of the network will be\n",
    "# executed in cycles. In each cycle (except the last) a predetermined number of images (max_loaded_imgs_num) are\n",
    "# loaded to the memory, where they are preprocessed and split to training and validation datasets. Then epoch\n",
    "# number of training and validation phase are executed on the neural network with these datasets. The images\n",
    "# loaded to the memory are different in every cycle.\n",
    "\n",
    "# Determining the combined length of the training and validation data.\n",
    "len_train_val_set = (int)(len_dataset*(train_split+valid_split))\n",
    "# Determinde number of (training + validation) cycles.\n",
    "num_cycles_train_val = (int)(len_train_val_set/max_loaded_imgs_num) + 1\n",
    "# Determine the length of the last section of (training + validation) data.\n",
    "len_last_section_train_val = len_train_val_set - max_loaded_imgs_num * (num_cycles_train_val - 1)\n",
    "\n",
    "# Since the whole dataset cannot be loaded to the memory at the same time, the network evaluation on test data\n",
    "# will be executed in cycles. In each cycle (except the last) a predetermined number of images (max_loaded_imgs_num)\n",
    "# are loaded to the memory, where they are preprocessed, forming the test dataset. Then the test phase is executed\n",
    "# on the neural network with this dataset. The images loaded to the memory are different in every cycle.\n",
    "\n",
    "# Determining the length of the test data.\n",
    "len_test_set = len_dataset - len_train_val_set\n",
    "# Determinde number of test cycles.\n",
    "num_cycles_test = (int)(len_test_set/max_loaded_imgs_num) + 1\n",
    "# Determine the length of the last section of test data.\n",
    "len_last_section_test = len_test_set - max_loaded_imgs_num * (num_cycles_test - 1)\n",
    "\n",
    "# Execution of (num_cycles_train_val-1) training cycle.\n",
    "#for i in range(num_cycles_train_val-1):\n",
    "#    (X_train,Y_train,X_valid,Y_valid) = preprocess_train_valid_data(transformed_dataset_path, train_split, valid_split, max_loaded_imgs_num, i * max_loaded_imgs_num)\n",
    "    # training the model\n",
    "\n",
    "# If there are images left in the last section, execute last training cycle.\n",
    "#if(len_last_section_train_val != 0):    \n",
    "#    (X_train,Y_train,X_valid,Y_valid) = preprocess_train_valid_data(transformed_dataset_path, train_split, valid_split, len_last_section_train_val, (num_cycles_train_val - 1) * max_loaded_imgs_num)\n",
    "    # training the model\n",
    "\n",
    "# Execution of (num_cycles_test-1) test cycle.\n",
    "#for i in range(num_cycles_test-1):\n",
    "#    (X_test, Y_test) = preprocess_test_data(transformed_dataset_path, max_loaded_imgs_num, len_train_val_set + i * max_loaded_imgs_num )\n",
    "    # elvaluation of test data\n",
    "\n",
    "# If there are images left in the last section, execute last test cycle.\n",
    "#if(len_last_section_test != 0):\n",
    "#    (X_test, Y_test) = preprocess_test_data(transformed_dataset_path, len_last_section_test, len_train_val_set + (num_cycles_test - 1) * max_loaded_imgs_num )\n",
    "    # evaluation of test data"
   ]
  },
  {
   "cell_type": "code",
   "execution_count": 32,
   "metadata": {
    "colab": {
     "base_uri": "https://localhost:8080/",
     "height": 35
    },
    "colab_type": "code",
    "id": "2TE2qi9CTp0h",
    "outputId": "1c03b5f4-17f7-476e-8b29-e98e4fcd753a"
   },
   "outputs": [
    {
     "name": "stdout",
     "output_type": "stream",
     "text": [
      "Start calculating average and std value on train data. 2018-11-06 15:54:44.866816\n",
      "2045/95752\n",
      "10011/95752\n",
      "17992/95752\n",
      "26122/95752\n",
      "34242/95752\n",
      "41683/95752\n",
      "49471/95752\n",
      "57452/95752\n",
      "65473/95752\n",
      "73445/95752\n",
      "81489/95752\n",
      "89525/95752\n",
      "Calculated average and std value, 2018-11-06 16:06:46.433307\n"
     ]
    }
   ],
   "source": [
    "datetime.datetime.now()\n",
    "print('Start calculating average and std value on train data. '+str(datetime.datetime.now()))\n",
    "std,ave = dataset_std(transformed_dataset_path,128,valid_split,test_split)\n",
    "print('Calculated average and std value, '+str(datetime.datetime.now()))"
   ]
  },
  {
   "cell_type": "code",
   "execution_count": 33,
   "metadata": {},
   "outputs": [
    {
     "name": "stdout",
     "output_type": "stream",
     "text": [
      "47.16514176432521 28.18332749171332\n"
     ]
    }
   ],
   "source": [
    "print(ave, std)"
   ]
  },
  {
   "cell_type": "code",
   "execution_count": null,
   "metadata": {
    "colab": {
     "base_uri": "https://localhost:8080/",
     "height": 243
    },
    "colab_type": "code",
    "id": "Z0XF7JXze66O",
    "outputId": "e96ca71e-4f4b-4633-d448-790a30e08635"
   },
   "outputs": [
    {
     "name": "stdout",
     "output_type": "stream",
     "text": [
      "Start transforming images to csv files. 2018-11-06 16:07:53.980275\n",
      "53/95752\n",
      "618/95752\n",
      "1188/95752\n",
      "1756/95752\n",
      "2319/95752\n",
      "2878/95752\n",
      "3438/95752\n",
      "3996/95752\n",
      "4542/95752\n",
      "5085/95752\n",
      "5627/95752\n",
      "6162/95752\n",
      "6719/95752\n",
      "7279/95752\n",
      "7805/95752\n"
     ]
    }
   ],
   "source": [
    "\n",
    "print('Start transforming images to csv files. '+str(datetime.datetime.now()))\n",
    "csv_dataset_path ='E:/Deep_Learning_HW/csv_dataset/'\n",
    "dataset_normalized_csv(transformed_dataset_path,csv_dataset_path,ave,std)\n",
    "print('Transformed images to csv files. '+str(datetime.datetime.now()))\n"
   ]
  },
  {
   "cell_type": "code",
   "execution_count": 0,
   "metadata": {
    "colab": {},
    "colab_type": "code",
    "id": "jdEjTfq8rlAa"
   },
   "outputs": [],
   "source": [
    "#Class TrainingHistory\n",
    "class TrainingHistory(Callback):\n",
    "    def on_train_begin(self, logs={}):\n",
    "        self.losses=[]\n",
    "        self.valid_losses =[]\n",
    "        self.accs = []\n",
    "        self.valid_accs = []\n",
    "        self.epoch=0\n",
    "    \n",
    "    def on_epoch_end(self, epoch,logs={}):\n",
    "        self.losses.append(logs.get('loss'))\n",
    "        self.valid_losses.append(logs.get('val_loss'))\n",
    "        self.accs.append(logs.get('acc'))\n",
    "        self.valid_accs.append(logs.get('val_acc'))\n",
    "        self.epoch += 1\n",
    "#Initializing the history  \n",
    "history = TrainingHistory()\n",
    "\n",
    "#Defining the earlystopping\n",
    "es = EarlyStopping(patience=10, verbose=1)\n",
    "mcp = ModelCheckpoint(filepath='weights.hdf5', verbose=1, save_best_only=True)"
   ]
  },
  {
   "cell_type": "code",
   "execution_count": 0,
   "metadata": {
    "colab": {},
    "colab_type": "code",
    "id": "CZBL8XSxuDRj"
   },
   "outputs": [],
   "source": [
    "model = Sequential();\n",
    "model.add(Conv2D(data_format=\"channels_first\",input_shape=(128, 128,1), filters=32, kernel_size=(3, 3), strides=1, padding='same', activation='linear', use_bias=False))\n",
    "model.add(LeakyReLU(alpha=0.1))\n",
    "model.add(Conv2D(data_format=\"channels_first\",filters=32, kernel_size=(3, 3), strides=1, padding='same', activation='linear', use_bias=False))\n",
    "model.add(LeakyReLU(alpha=0.1))\n",
    "model.add(Conv2D(data_format=\"channels_first\",filters=32, kernel_size=(3, 3), strides=1, padding='same', activation='linear', use_bias=False))\n",
    "model.add(LeakyReLU(alpha=0.1))\n",
    "model.add(MaxPooling2D((2, 2),padding='same'))\n",
    "\n",
    "model.add(Conv2D(data_format=\"channels_first\",filters=64, kernel_size=(3, 3), strides=1, padding='same', activation='linear', use_bias=False))\n",
    "model.add(LeakyReLU(alpha=0.1))\n",
    "model.add(Conv2D(data_format=\"channels_first\",filters=64, kernel_size=(3, 3), strides=1, padding='same', activation='linear', use_bias=False))\n",
    "model.add(LeakyReLU(alpha=0.1))\n",
    "model.add(Conv2D(data_format=\"channels_first\",filters=64, kernel_size=(3, 3), strides=1, padding='same', activation='linear', use_bias=False))\n",
    "model.add(LeakyReLU(alpha=0.1))\n",
    "model.add(MaxPooling2D((2, 2),padding='same'))\n",
    "\n",
    "model.add(Conv2D(data_format=\"channels_first\",filters=128, kernel_size=(3, 3), strides=1, padding='same', activation='linear', use_bias=False))\n",
    "model.add(LeakyReLU(alpha=0.1))\n",
    "model.add(Conv2D(data_format=\"channels_first\",filters=128, kernel_size=(3, 3), strides=1, padding='same', activation='linear', use_bias=False))\n",
    "model.add(LeakyReLU(alpha=0.1))\n",
    "model.add(Conv2D(data_format=\"channels_first\",filters=128, kernel_size=(3, 3), strides=1, padding='same', activation='linear', use_bias=False))\n",
    "model.add(LeakyReLU(alpha=0.1))\n",
    "model.add(MaxPooling2D((2, 2),padding='same'))\n",
    "\n",
    "model.add(Conv2D(data_format=\"channels_first\",filters=256, kernel_size=(3, 3), strides=1, padding='same', activation='linear', use_bias=False))\n",
    "model.add(LeakyReLU(alpha=0.1))\n",
    "model.add(Conv2D(data_format=\"channels_first\",filters=256, kernel_size=(3, 3), strides=1, padding='same', activation='linear', use_bias=False))\n",
    "model.add(LeakyReLU(alpha=0.1))\n",
    "model.add(Conv2D(data_format=\"channels_first\",filters=256, kernel_size=(3, 3), strides=1, padding='same', activation='linear', use_bias=False))\n",
    "model.add(LeakyReLU(alpha=0.1))\n",
    "model.add(MaxPooling2D((2, 2),padding='same'))\n",
    "\n",
    "model.add(Flatten())\n",
    "model.add(Dense(1024, activation='linear'))\n",
    "model.add(LeakyReLU(alpha=0.1))\n",
    "model.add(Dense(1024, activation='linear'))\n",
    "model.add(LeakyReLU(alpha=0.1))\n",
    "\n",
    "model.add(Dense(2*128*128, activation='linear'))\n",
    "model.add(Activation('sigmoid'))  "
   ]
  },
  {
   "cell_type": "code",
   "execution_count": 0,
   "metadata": {
    "colab": {},
    "colab_type": "code",
    "id": "Vd-wkdfOuGv3"
   },
   "outputs": [],
   "source": [
    "sgd=SGD(lr=1, momentum=0.09, nesterov=True)\n",
    "model.compile(loss='categorical_crossentropy', optimizer=sgd)\n",
    "\n",
    "(X_train,Y_train,X_valid,Y_valid) = preprocess_train_valid_data('C:/Users/USER/Documents/datasets/csv/', train_split, valid_split, 20, 0)\n",
    "\n",
    "hst = model.fit(inputArray, outputArray.reshape((-1,2*128*128)),\\\n",
    "         batch_size=1,\n",
    "         epochs=1,\n",
    "         verbose=2,\n",
    "         validation_data=(inputArrayVal,outputArrayVal.reshape((-1,2*128*128))),\n",
    "         callbacks=[mcp, es, history],\n",
    "         shuffle=True)"
   ]
  },
  {
   "cell_type": "code",
   "execution_count": 0,
   "metadata": {
    "colab": {},
    "colab_type": "code",
    "id": "6Ngak2lXuKe4"
   },
   "outputs": [],
   "source": [
    "preds=model.predict(inputArrayT).reshape((2,128,128,2))*255\n",
    "visual=np.empty((2,128,128,3))\n",
    "visual[:,:,:,0]=npImageArrayT[:,:,:,0]\n",
    "visual[:,:,:,1::]=preds-127\n",
    "plt.subplot(2,1,1)\n",
    "plt.imshow(skcolor.lab2rgb(visual[0]))\n",
    "plt.subplot(2,1,2)\n",
    "plt.imshow(imageArrayt[0])\n",
    "plt.show"
   ]
  },
  {
   "cell_type": "code",
   "execution_count": 0,
   "metadata": {
    "colab": {},
    "colab_type": "code",
    "id": "h31DKQZbuS10"
   },
   "outputs": [],
   "source": [
    "plt.figure(figsize=(6,3))\n",
    "plt.title(\"Hiba mértéke a tanítás során\")\n",
    "plt.plot(np.arange(history.epoch), history.losses, color='g',  \n",
    "         label=\"Hiba a tanító adatokon\")\n",
    "plt.plot(np.arange(history.epoch), history.valid_losses, color='r',\n",
    "         label=\"Hiba a validációs adatokon\")\n",
    "plt.legend(loc='upper right')\n",
    "plt.xlabel(\"Epochok száma\")\n",
    "plt.ylabel(\"Hiba\")\n",
    "plt.grid(True)\n",
    "plt.show()"
   ]
  }
 ],
 "metadata": {
  "colab": {
   "collapsed_sections": [],
   "name": "ColorNet.ipynb",
   "provenance": [],
   "version": "0.3.2"
  },
  "kernelspec": {
   "display_name": "Python 3",
   "language": "python",
   "name": "python3"
  },
  "language_info": {
   "codemirror_mode": {
    "name": "ipython",
    "version": 3
   },
   "file_extension": ".py",
   "mimetype": "text/x-python",
   "name": "python",
   "nbconvert_exporter": "python",
   "pygments_lexer": "ipython3",
   "version": "3.6.5"
  }
 },
 "nbformat": 4,
 "nbformat_minor": 1
}
